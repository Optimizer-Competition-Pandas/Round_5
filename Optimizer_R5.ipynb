{
 "cells": [
  {
   "cell_type": "code",
   "execution_count": 1,
   "id": "a13d4d94",
   "metadata": {},
   "outputs": [],
   "source": [
    "using GLPK\n",
    "using LinearAlgebra\n",
    "using MathOptInterface\n",
    "const MOI = MathOptInterface\n",
    "using Random\n",
    "using DelimitedFiles\n",
    "using StatsBase"
   ]
  },
  {
   "cell_type": "code",
   "execution_count": 2,
   "id": "6ad90140",
   "metadata": {},
   "outputs": [],
   "source": [
    "row_norm(X) = [norm(X[i, :]) for i in 1:size(X)[1]];\n",
    "norm_2_0(X) = norm(row_norm(X), 0);"
   ]
  },
  {
   "cell_type": "markdown",
   "id": "dfdd2866",
   "metadata": {},
   "source": [
    "## Loading Data"
   ]
  },
  {
   "cell_type": "code",
   "execution_count": 3,
   "id": "ab1bd097",
   "metadata": {},
   "outputs": [
    {
     "data": {
      "text/plain": [
       "142177-element Vector{String}:\n",
       " \"matrix,row,col\"\n",
       " \"S,8404,13094\"\n",
       " \"I,J,V\"\n",
       " \"1962.0,1.0,1.0\"\n",
       " \"3086.0,1.0,-1.0\"\n",
       " \"3518.0,1.0,1.0\"\n",
       " \"4360.0,1.0,-1.0\"\n",
       " \"4366.0,1.0,1.0\"\n",
       " \"1962.0,2.0,1.0\"\n",
       " \"3086.0,2.0,-1.0\"\n",
       " \"3518.0,2.0,1.0\"\n",
       " \"4371.0,2.0,-1.0\"\n",
       " \"4378.0,2.0,1.0\"\n",
       " ⋮\n",
       " \"12915.0,50.0,-0.7066845038719946\"\n",
       " \"12931.0,50.0,-0.20759725620232247\"\n",
       " \"12980.0,50.0,-1.4924699624859217e-17\"\n",
       " \"12981.0,50.0,1.816435697106933e-18\"\n",
       " \"12982.0,50.0,-0.4594734162541209\"\n",
       " \"13012.0,50.0,6.838124841315584e-17\"\n",
       " \"13018.0,50.0,-0.5652116143958407\"\n",
       " \"13019.0,50.0,-0.7683461294766732\"\n",
       " \"vector,row,col\"\n",
       " \"K,1,1\"\n",
       " \"I,V\"\n",
       " \"1,10\""
      ]
     },
     "execution_count": 3,
     "metadata": {},
     "output_type": "execute_result"
    }
   ],
   "source": [
    "totaltime, totallines = open(\"T1/R5T1.txt\") do f\n",
    "    global lines = readlines(f);\n",
    "end"
   ]
  },
  {
   "cell_type": "code",
   "execution_count": 4,
   "id": "33296346",
   "metadata": {},
   "outputs": [
    {
     "data": {
      "text/plain": [
       "is_info_line (generic function with 1 method)"
      ]
     },
     "execution_count": 4,
     "metadata": {},
     "output_type": "execute_result"
    }
   ],
   "source": [
    "function is_info_line(a_line)\n",
    "    a_line_info = split(a_line, \",\");\n",
    "    line_indicator = a_line_info[1];\n",
    "    if cmp(line_indicator, \"matrix\") == 0 || cmp(line_indicator, \"vector\") == 0\n",
    "        return true\n",
    "    end\n",
    "    return false\n",
    "end"
   ]
  },
  {
   "cell_type": "code",
   "execution_count": 5,
   "id": "35020bf7",
   "metadata": {},
   "outputs": [
    {
     "data": {
      "text/plain": [
       "get_info_end_line (generic function with 1 method)"
      ]
     },
     "execution_count": 5,
     "metadata": {},
     "output_type": "execute_result"
    }
   ],
   "source": [
    "function get_info_end_line(lines_info, t_start, t_end_file)\n",
    "    current_line = lines_info[t_start];\n",
    "    t = t_start;\n",
    "    for t in t_start:t_end_file\n",
    "        current_line = lines_info[t];\n",
    "        if is_info_line(current_line)\n",
    "            return t-1\n",
    "        end\n",
    "    end\n",
    "    return t_end_file\n",
    "end"
   ]
  },
  {
   "cell_type": "code",
   "execution_count": 6,
   "id": "507e07f9",
   "metadata": {},
   "outputs": [
    {
     "data": {
      "text/plain": [
       "fill_matrix (generic function with 1 method)"
      ]
     },
     "execution_count": 6,
     "metadata": {},
     "output_type": "execute_result"
    }
   ],
   "source": [
    "function fill_matrix(A, n_rows, n_cols, values_vector)\n",
    "    for info_line in values_vector\n",
    "        line_info = split(info_line, \",\");\n",
    "        i_v = floor(Int64, parse(Float64, line_info[1]));\n",
    "        j_v = floor(Int64, parse(Float64, line_info[2]));\n",
    "        val = parse(Float64, line_info[3]);\n",
    "        A[i_v, j_v] = val;\n",
    "    end\n",
    "end"
   ]
  },
  {
   "cell_type": "code",
   "execution_count": 7,
   "id": "f953396a",
   "metadata": {},
   "outputs": [
    {
     "data": {
      "text/plain": [
       "read_block (generic function with 1 method)"
      ]
     },
     "execution_count": 7,
     "metadata": {},
     "output_type": "execute_result"
    }
   ],
   "source": [
    "function read_block(t_start)\n",
    "    info_line = lines[t_start];\n",
    "    info = split(info_line, \",\");\n",
    "    t = t_start + 1;\n",
    "    \n",
    "    if cmp(info[1],\"matrix\") == 0\n",
    "        matrix_info_line = lines[t];\n",
    "        matrix_info = split(matrix_info_line, \",\");\n",
    "        matrix_name = matrix_info[1];\n",
    "        num_rows = parse(Int64, matrix_info[2]);\n",
    "        num_cols = parse(Int64, matrix_info[3]);\n",
    "        matrix_kind = 0;\n",
    "        if cmp(matrix_name, \"S\") == 0\n",
    "            global m = num_rows;\n",
    "            global n = num_cols;\n",
    "            global S = zeros(m, n);\n",
    "            matrix_kind = 1;\n",
    "        elseif cmp(matrix_name, \"L\") == 0\n",
    "            global c = num_cols;\n",
    "            global L = zeros(n, c);\n",
    "            matrix_kind = 2;\n",
    "        elseif cmp(matrix_name, \"U\") == 0\n",
    "            global c = num_cols;\n",
    "            global U = zeros(n, c);\n",
    "            matrix_kind = 3;\n",
    "        else\n",
    "            @show \"Something is not right here! - id:1\"\n",
    "        end\n",
    "        t = t+1;\n",
    "        IJV_line = lines[t];\n",
    "        if cmp(IJV_line, \"I,J,V\") != 0\n",
    "            @show \"Something is not right here! - id:2\"\n",
    "        end\n",
    "        t = t+1;\n",
    "        t_last = get_info_end_line(lines, t, file_num_lines);\n",
    "        if matrix_kind == 1\n",
    "            fill_matrix(S, m, n, lines[t:t_last]);\n",
    "        elseif matrix_kind == 2\n",
    "            fill_matrix(L, n, c, lines[t:t_last]);\n",
    "        elseif matrix_kind == 3\n",
    "            fill_matrix(U, n, c, lines[t:t_last]);\n",
    "        end\n",
    "        t = t_last+1;\n",
    "    elseif cmp(info[1],\"vector\") == 0\n",
    "        vector_info_line = lines[t];\n",
    "        if cmp(vector_info_line, \"K,1,1\") != 0\n",
    "            @show \"Something is not right here! - 3\"\n",
    "        end\n",
    "        t = t+1;\n",
    "        IV_line = lines[t];\n",
    "        if cmp(IV_line, \"I,V\") != 0\n",
    "            @show \"Something is not right here! - 4\"\n",
    "        end\n",
    "        t = t+1;\n",
    "        K_info_line = lines[t];\n",
    "        K_info = split(K_info_line, \",\");\n",
    "        global K = parse(Float64, K_info[2]);\n",
    "        t = t+1;\n",
    "    else\n",
    "        @show \"Something is not right here! - 5\"\n",
    "    end\n",
    "    return t\n",
    "end"
   ]
  },
  {
   "cell_type": "code",
   "execution_count": 8,
   "id": "7b21c72b",
   "metadata": {},
   "outputs": [],
   "source": [
    "file_num_lines = length(lines)\n",
    "m = 0;\n",
    "n = 0;\n",
    "c = 0;\n",
    "K = 0;\n",
    "line_counter = 1;\n",
    "while line_counter < file_num_lines\n",
    "    line_counter = read_block(line_counter);\n",
    "end\n",
    "K = floor(Int64, K);"
   ]
  },
  {
   "cell_type": "markdown",
   "id": "3986a879",
   "metadata": {},
   "source": [
    "### Get Intuition From Data:"
   ]
  },
  {
   "cell_type": "code",
   "execution_count": 10,
   "id": "a7ac9f37",
   "metadata": {},
   "outputs": [
    {
     "data": {
      "text/plain": [
       "revise_resolution (generic function with 1 method)"
      ]
     },
     "execution_count": 10,
     "metadata": {},
     "output_type": "execute_result"
    }
   ],
   "source": [
    "function revise_resolution(M, res)\n",
    "    num_rows, num_cols = size(M);\n",
    "    Mp = copy(M);\n",
    "    for i in 1:num_rows\n",
    "        for j in 1:num_cols\n",
    "            if abs(M[i,j]) < res\n",
    "                Mp[i,j] = 0;\n",
    "            end\n",
    "        end\n",
    "    end\n",
    "    return Mp\n",
    "end"
   ]
  },
  {
   "cell_type": "code",
   "execution_count": 11,
   "id": "125bb018",
   "metadata": {},
   "outputs": [],
   "source": [
    "L_tilde = revise_resolution(L, 2e-5);\n",
    "U_tilde = revise_resolution(U, 2e-5);"
   ]
  },
  {
   "cell_type": "code",
   "execution_count": 12,
   "id": "f1cf8d10",
   "metadata": {},
   "outputs": [
    {
     "data": {
      "text/plain": [
       "get_nonzero_indeces (generic function with 1 method)"
      ]
     },
     "execution_count": 12,
     "metadata": {},
     "output_type": "execute_result"
    }
   ],
   "source": [
    "function get_nonzero_indeces(L, U)\n",
    "    nonzero_ind = zeros(Int64, 0);\n",
    "    zero_indeces = zeros(Int64, 0);\n",
    "    for i in 1:n\n",
    "        if maximum(L[i, :])>0 || minimum(U[i, :])<0\n",
    "            append!(nonzero_ind, i);\n",
    "        else\n",
    "            append!(zero_indeces, i);\n",
    "        end\n",
    "    end\n",
    "    return nonzero_ind, zero_indeces\n",
    "end"
   ]
  },
  {
   "cell_type": "code",
   "execution_count": 13,
   "id": "51619056",
   "metadata": {},
   "outputs": [],
   "source": [
    "nz_ind, z_ind = get_nonzero_indeces(L_tilde, U_tilde);"
   ]
  },
  {
   "cell_type": "code",
   "execution_count": 14,
   "id": "c3887fdd",
   "metadata": {},
   "outputs": [
    {
     "data": {
      "text/plain": [
       "get_trivial_indeces (generic function with 1 method)"
      ]
     },
     "execution_count": 14,
     "metadata": {},
     "output_type": "execute_result"
    }
   ],
   "source": [
    "function get_trivial_indeces(l, u)\n",
    "    trivial_indeces = zeros(Int64, 0);\n",
    "    non_trivial_indeces = zeros(Int64, 0);\n",
    "    for i in 1:n\n",
    "        if l[i]==u[i]\n",
    "            append!(trivial_indeces, i);\n",
    "        else\n",
    "            append!(non_trivial_indeces, i);\n",
    "        end\n",
    "    end\n",
    "    return trivial_indeces, non_trivial_indeces\n",
    "end"
   ]
  },
  {
   "cell_type": "code",
   "execution_count": 15,
   "id": "1f7e4632",
   "metadata": {},
   "outputs": [
    {
     "data": {
      "text/plain": [
       "make_full_v0 (generic function with 1 method)"
      ]
     },
     "execution_count": 15,
     "metadata": {},
     "output_type": "execute_result"
    }
   ],
   "source": [
    "function make_full_v0(vec_hat, non_trivial_ind, n_h)\n",
    "    v0_full = zeros(n);\n",
    "    for ind in 1:n_h\n",
    "        i = non_trivial_ind[ind];\n",
    "        v0_full[i] = vec_hat[ind];\n",
    "    end\n",
    "    return v0_full\n",
    "end"
   ]
  },
  {
   "cell_type": "markdown",
   "id": "188f6065",
   "metadata": {},
   "source": [
    "## Round 5 Question:"
   ]
  },
  {
   "cell_type": "markdown",
   "id": "9f51ff12",
   "metadata": {},
   "source": [
    "$$\n",
    "minimize  \\qquad \\left\\lVert V \\right\\rVert_{2,0} \\\\\n",
    "s.t.: \\quad \\left\\lVert (SV)^T \\right\\rVert_{2,0} \\leq K \\\\\n",
    " \\qquad\\qquad L \\preceq V \\preceq U\n",
    "$$"
   ]
  },
  {
   "cell_type": "markdown",
   "id": "1aa8a7a3",
   "metadata": {},
   "source": [
    "### Algorithm 1) Sort best columns by L1,1 heuristic"
   ]
  },
  {
   "cell_type": "markdown",
   "id": "fd7aebe9",
   "metadata": {},
   "source": [
    "#### All Sv = 0:"
   ]
  },
  {
   "cell_type": "code",
   "execution_count": 16,
   "id": "de31dd41",
   "metadata": {},
   "outputs": [],
   "source": [
    "V0 = zeros((n,c));\n",
    "for col in 1:c\n",
    "    triv_ind, non_triv_ind = get_trivial_indeces(L_tilde[:,col], U_tilde[:, col]);\n",
    "    n_hat = length(non_triv_ind);\n",
    "    S_hat = S[:, non_triv_ind];\n",
    "    l_hat = L_tilde[non_triv_ind, col];\n",
    "    u_hat = U_tilde[non_triv_ind, col];\n",
    "    obective_coeffs = ones(n_hat);\n",
    "    for i in 1:n_hat\n",
    "        if non_triv_ind[i] in nz_ind\n",
    "            obective_coeffs[i] = 0;\n",
    "        end\n",
    "    end\n",
    "    # ------------------------------------------------------------------------------------\n",
    "    optimizer = GLPK.Optimizer()\n",
    "    v_hat = MOI.add_variables(optimizer, n_hat)\n",
    "    v_abs_hat = MOI.add_variables(optimizer, n_hat)\n",
    "    # ------------------------------------------------------------------------------------\n",
    "    objective_function = MOI.ScalarAffineFunction(MOI.ScalarAffineTerm.(obective_coeffs, v_abs_hat), 0.0)\n",
    "    MOI.set(optimizer, \n",
    "            MOI.ObjectiveFunction{MOI.ScalarAffineFunction{Float64}}(),\n",
    "            objective_function)\n",
    "    MOI.set(optimizer, MOI.ObjectiveSense(), MOI.MIN_SENSE)\n",
    "    # ------------------------------------------------------------------------------------\n",
    "    for i in 1:n_hat\n",
    "            MOI.add_constraint(optimizer, \n",
    "                               MOI.SingleVariable(v_hat[i]), \n",
    "                               MOI.Interval(l_hat[i], u_hat[i]))\n",
    "    end\n",
    "    # ------------------------------------------------------------------------------------\n",
    "    for (i,row) in enumerate(eachrow(S_hat))\n",
    "            row_function = MOI.ScalarAffineFunction(MOI.ScalarAffineTerm.(row, v_hat), 0.0);\n",
    "            MOI.add_constraint(optimizer, row_function, MOI.EqualTo(0.0))\n",
    "    end\n",
    "    # ------------------------------------------------------------------------------------\n",
    "    for i in 1:n_hat\n",
    "            abs_plus = MOI.ScalarAffineFunction(MOI.ScalarAffineTerm.([1.0, -1.0], [v_abs_hat[i], v_hat[i]]), 0.0)\n",
    "            abs_minus = MOI.ScalarAffineFunction(MOI.ScalarAffineTerm.([1.0, 1.0], [v_abs_hat[i], v_hat[i]]), 0.0)\n",
    "            MOI.add_constraint(optimizer, \n",
    "                               abs_plus, \n",
    "                               MOI.GreaterThan(0.0))\n",
    "            MOI.add_constraint(optimizer, \n",
    "                               abs_minus, \n",
    "                               MOI.GreaterThan(0.0))\n",
    "    end\n",
    "    # ------------------------------------------------------------------------------------\n",
    "    MOI.optimize!(optimizer)\n",
    "    status = MOI.get(optimizer, MOI.TerminationStatus())\n",
    "    if status != MOI.OPTIMAL\n",
    "        @show \"Somethings wrong here\"\n",
    "    end\n",
    "    v0_hat = MOI.get(optimizer, MOI.VariablePrimal(), v_hat)\n",
    "    # ------------------------------------------------------------------------------------\n",
    "    v0 = make_full_v0(v0_hat, non_triv_ind, n_hat);\n",
    "    V0[:,col] = v0;\n",
    "end"
   ]
  },
  {
   "cell_type": "code",
   "execution_count": 17,
   "id": "a4b47491",
   "metadata": {},
   "outputs": [
    {
     "data": {
      "text/plain": [
       "492.0"
      ]
     },
     "execution_count": 17,
     "metadata": {},
     "output_type": "execute_result"
    }
   ],
   "source": [
    "V0 = (abs.(V0).>2e-5).*V0;\n",
    "norm_2_0(V0)"
   ]
  },
  {
   "cell_type": "markdown",
   "id": "de1ae7bf",
   "metadata": {},
   "source": [
    "#### All Sv != 0:"
   ]
  },
  {
   "cell_type": "code",
   "execution_count": 18,
   "id": "5048d058",
   "metadata": {},
   "outputs": [],
   "source": [
    "V1 = zeros((n,c));\n",
    "for col in 1:c\n",
    "    triv_ind, non_triv_ind = get_trivial_indeces(L_tilde[:,col], U_tilde[:, col]);\n",
    "    n_hat = length(non_triv_ind);\n",
    "    S_hat = S[:, non_triv_ind];\n",
    "    l_hat = L_tilde[non_triv_ind, col];\n",
    "    u_hat = U_tilde[non_triv_ind, col];\n",
    "    obective_coeffs = ones(n_hat);\n",
    "    for i in 1:n_hat\n",
    "        if non_triv_ind[i] in nz_ind\n",
    "            obective_coeffs[i] = 0;\n",
    "        end\n",
    "    end\n",
    "    # ------------------------------------------------------------------------------------\n",
    "    optimizer = GLPK.Optimizer()\n",
    "    v_hat = MOI.add_variables(optimizer, n_hat)\n",
    "    v_abs_hat = MOI.add_variables(optimizer, n_hat)\n",
    "    # ------------------------------------------------------------------------------------\n",
    "    objective_function = MOI.ScalarAffineFunction(MOI.ScalarAffineTerm.(obective_coeffs, v_abs_hat), 0.0)\n",
    "    MOI.set(optimizer, \n",
    "            MOI.ObjectiveFunction{MOI.ScalarAffineFunction{Float64}}(),\n",
    "            objective_function)\n",
    "    MOI.set(optimizer, MOI.ObjectiveSense(), MOI.MIN_SENSE)\n",
    "    # ------------------------------------------------------------------------------------\n",
    "    for i in 1:n_hat\n",
    "            MOI.add_constraint(optimizer, \n",
    "                               MOI.SingleVariable(v_hat[i]), \n",
    "                               MOI.Interval(l_hat[i], u_hat[i]))\n",
    "    end\n",
    "    # ------------------------------------------------------------------------------------\n",
    "    for i in 1:n_hat\n",
    "            abs_plus = MOI.ScalarAffineFunction(MOI.ScalarAffineTerm.([1.0, -1.0], [v_abs_hat[i], v_hat[i]]), 0.0)\n",
    "            abs_minus = MOI.ScalarAffineFunction(MOI.ScalarAffineTerm.([1.0, 1.0], [v_abs_hat[i], v_hat[i]]), 0.0)\n",
    "            MOI.add_constraint(optimizer, \n",
    "                               abs_plus, \n",
    "                               MOI.GreaterThan(0.0))\n",
    "            MOI.add_constraint(optimizer, \n",
    "                               abs_minus, \n",
    "                               MOI.GreaterThan(0.0))\n",
    "    end\n",
    "    # ------------------------------------------------------------------------------------\n",
    "    MOI.optimize!(optimizer)\n",
    "    status = MOI.get(optimizer, MOI.TerminationStatus())\n",
    "    if status != MOI.OPTIMAL\n",
    "        @show \"Somethings wrong here\"\n",
    "    end\n",
    "    v0_hat = MOI.get(optimizer, MOI.VariablePrimal(), v_hat)\n",
    "    # ------------------------------------------------------------------------------------\n",
    "    v0 = make_full_v0(v0_hat, non_triv_ind, n_hat);\n",
    "    V1[:,col] = v0;\n",
    "end"
   ]
  },
  {
   "cell_type": "code",
   "execution_count": 19,
   "id": "84c28ef6",
   "metadata": {},
   "outputs": [
    {
     "data": {
      "text/plain": [
       "195.0"
      ]
     },
     "execution_count": 19,
     "metadata": {},
     "output_type": "execute_result"
    }
   ],
   "source": [
    "V1 = (abs.(V1).>2e-5).*V1;\n",
    "norm_2_0(V1)"
   ]
  },
  {
   "cell_type": "markdown",
   "id": "eecd322f",
   "metadata": {},
   "source": [
    "#### Checking loosing which constraints are usefull:"
   ]
  },
  {
   "cell_type": "code",
   "execution_count": 20,
   "id": "7656da5b",
   "metadata": {},
   "outputs": [],
   "source": [
    "distances = zeros(c);\n",
    "for col in 1:c\n",
    "    distances[col] = norm(V0[:,col], 1) - norm(V1[:,col], 1);\n",
    "end"
   ]
  },
  {
   "cell_type": "code",
   "execution_count": 21,
   "id": "d157b8fc",
   "metadata": {},
   "outputs": [],
   "source": [
    "sorted_indeces = sortperm(distances);"
   ]
  },
  {
   "cell_type": "code",
   "execution_count": 22,
   "id": "afe3dc52",
   "metadata": {},
   "outputs": [],
   "source": [
    "SV_flag = ones(Int64, c);\n",
    "for i in 1:K\n",
    "    col = sorted_indeces[c-i+1];\n",
    "    SV_flag[col] = 0;\n",
    "end"
   ]
  },
  {
   "cell_type": "markdown",
   "id": "5d856d8d",
   "metadata": {},
   "source": [
    "### Weighted Algorithm for swiched SVs "
   ]
  },
  {
   "cell_type": "code",
   "execution_count": 26,
   "id": "030c6aea",
   "metadata": {},
   "outputs": [],
   "source": [
    "eps = 1e-4;\n",
    "p = 0.8;\n",
    "NUM_RUNS = 20;"
   ]
  },
  {
   "cell_type": "code",
   "execution_count": 27,
   "id": "528f7f33",
   "metadata": {},
   "outputs": [
    {
     "data": {
      "text/plain": [
       "W4 (generic function with 1 method)"
      ]
     },
     "execution_count": 27,
     "metadata": {},
     "output_type": "execute_result"
    }
   ],
   "source": [
    "function W4(Val0, is_rand)\n",
    "    W = ones(n);\n",
    "    for i in 1:n\n",
    "        s = norm(Val0[i,:] ,2) + eps;\n",
    "        W[i] = (1+s^p)/(s^(p+1));\n",
    "        if is_rand\n",
    "            W[i] = W[i]*rand()^3;\n",
    "        end\n",
    "    end\n",
    "    return W\n",
    "end"
   ]
  },
  {
   "cell_type": "code",
   "execution_count": 28,
   "id": "4e2adfab",
   "metadata": {},
   "outputs": [
    {
     "name": "stdout",
     "output_type": "stream",
     "text": [
      "norm_2_0(V0) = 402.0\n",
      "norm_2_0(V0) = 390.0\n",
      "norm_2_0(V0) = 387.0\n",
      "norm_2_0(V0) = 385.0\n",
      "norm_2_0(V0) = 384.0\n",
      "norm_2_0(V0) = 383.0\n",
      "norm_2_0(V0) = 385.0\n",
      "norm_2_0(V0) = 383.0\n",
      "norm_2_0(V0) = 383.0\n",
      "norm_2_0(V0) = 382.0\n",
      "norm_2_0(V0) = 383.0\n",
      "norm_2_0(V0) = 384.0\n",
      "norm_2_0(V0) = 382.0\n",
      "norm_2_0(V0) = 382.0\n",
      "norm_2_0(V0) = 382.0\n",
      "norm_2_0(V0) = 382.0\n",
      "norm_2_0(V0) = 384.0\n",
      "norm_2_0(V0) = 384.0\n",
      "norm_2_0(V0) = 383.0\n",
      "norm_2_0(V0) = 383.0\n"
     ]
    }
   ],
   "source": [
    "best_nnz = norm_2_0(V0);\n",
    "best_V = V0;\n",
    "W = W4(V0, true);\n",
    "\n",
    "for k in 1:NUM_RUNS  \n",
    "    V0 = zeros((n,c));\n",
    "    for col in 1:c\n",
    "        if SV_flag[col] == 1 \n",
    "            triv_ind, non_triv_ind = get_trivial_indeces(L_tilde[:,col], U_tilde[:, col]);\n",
    "            n_hat = length(non_triv_ind);\n",
    "            S_hat = S[:, non_triv_ind];\n",
    "            l_hat = L_tilde[non_triv_ind, col];\n",
    "            u_hat = U_tilde[non_triv_ind, col];\n",
    "            obective_coeffs = ones(n_hat);\n",
    "            for i in 1:n_hat\n",
    "                if non_triv_ind[i] in nz_ind\n",
    "                    obective_coeffs[i] = 0;\n",
    "                end\n",
    "            end\n",
    "            obective_weights = obective_coeffs .* W[non_triv_ind];\n",
    "            # ------------------------------------------------------------------------------------\n",
    "            optimizer = GLPK.Optimizer()\n",
    "            v_hat = MOI.add_variables(optimizer, n_hat)\n",
    "            v_abs_hat = MOI.add_variables(optimizer, n_hat)\n",
    "            # ------------------------------------------------------------------------------------\n",
    "            objective_function = MOI.ScalarAffineFunction(MOI.ScalarAffineTerm.(obective_weights, v_abs_hat), 0.0)\n",
    "            MOI.set(optimizer, \n",
    "                    MOI.ObjectiveFunction{MOI.ScalarAffineFunction{Float64}}(),\n",
    "                    objective_function)\n",
    "            MOI.set(optimizer, MOI.ObjectiveSense(), MOI.MIN_SENSE)\n",
    "            # ------------------------------------------------------------------------------------\n",
    "            for i in 1:n_hat\n",
    "                    MOI.add_constraint(optimizer, \n",
    "                                       MOI.SingleVariable(v_hat[i]), \n",
    "                                       MOI.Interval(l_hat[i], u_hat[i]))\n",
    "            end\n",
    "            # ------------------------------------------------------------------------------------\n",
    "            for (i,row) in enumerate(eachrow(S_hat))\n",
    "                    row_function = MOI.ScalarAffineFunction(MOI.ScalarAffineTerm.(row, v_hat), 0.0);\n",
    "                    MOI.add_constraint(optimizer, row_function, MOI.EqualTo(0.0))\n",
    "            end\n",
    "            # ------------------------------------------------------------------------------------\n",
    "            for i in 1:n_hat\n",
    "                    abs_plus = MOI.ScalarAffineFunction(MOI.ScalarAffineTerm.([1.0, -1.0], [v_abs_hat[i], v_hat[i]]), 0.0)\n",
    "                    abs_minus = MOI.ScalarAffineFunction(MOI.ScalarAffineTerm.([1.0, 1.0], [v_abs_hat[i], v_hat[i]]), 0.0)\n",
    "                    MOI.add_constraint(optimizer, \n",
    "                                       abs_plus, \n",
    "                                       MOI.GreaterThan(0.0))\n",
    "                    MOI.add_constraint(optimizer, \n",
    "                                       abs_minus, \n",
    "                                       MOI.GreaterThan(0.0))\n",
    "            end\n",
    "            # ------------------------------------------------------------------------------------\n",
    "            MOI.optimize!(optimizer)\n",
    "            status = MOI.get(optimizer, MOI.TerminationStatus())\n",
    "            if status != MOI.OPTIMAL\n",
    "                @show \"Somethings wrong here\"\n",
    "            end\n",
    "            v0_hat = MOI.get(optimizer, MOI.VariablePrimal(), v_hat)\n",
    "            # ------------------------------------------------------------------------------------\n",
    "            v0 = make_full_v0(v0_hat, non_triv_ind, n_hat);\n",
    "            V0[:,col] = v0;\n",
    "        else\n",
    "            V0[:,col] = zeros(n);\n",
    "            V0[nz_ind,col] = (L_tilde[nz_ind, col] .+ U_tilde[nz_ind, col])./2;\n",
    "        end\n",
    "    end\n",
    "    \n",
    "    V0 = (abs.(V0).>2e-5).*V0;\n",
    "    @show norm_2_0(V0)\n",
    "\n",
    "    nnz = norm_2_0(V0);\n",
    "    if nnz < best_nnz\n",
    "        best_nnz = nnz;\n",
    "        best_V = V0;\n",
    "    end\n",
    "\n",
    "    # Adjust the weights elementwise and re-iterate\n",
    "    W = W4(V0, true);\n",
    "end"
   ]
  },
  {
   "cell_type": "code",
   "execution_count": 29,
   "id": "38198615",
   "metadata": {},
   "outputs": [
    {
     "data": {
      "text/plain": [
       "382.0"
      ]
     },
     "execution_count": 29,
     "metadata": {},
     "output_type": "execute_result"
    }
   ],
   "source": [
    "best_nnz\n",
    "norm_2_0(best_V)"
   ]
  },
  {
   "cell_type": "markdown",
   "id": "33f0b697",
   "metadata": {},
   "source": [
    "## Saving"
   ]
  },
  {
   "cell_type": "code",
   "execution_count": 184,
   "id": "1ccb8ff4",
   "metadata": {},
   "outputs": [],
   "source": [
    "f = open(\"T1/output.txt\", \"w\") do f\n",
    "  writedlm(f, best_V, ',')\n",
    "end"
   ]
  }
 ],
 "metadata": {
  "kernelspec": {
   "display_name": "Julia 1.6.1",
   "language": "julia",
   "name": "julia-1.6"
  },
  "language_info": {
   "file_extension": ".jl",
   "mimetype": "application/julia",
   "name": "julia",
   "version": "1.6.1"
  }
 },
 "nbformat": 4,
 "nbformat_minor": 5
}
